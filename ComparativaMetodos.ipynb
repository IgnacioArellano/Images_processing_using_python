{
 "cells": [
  {
   "cell_type": "markdown",
   "metadata": {},
   "source": [
    "**Comparativa entre métodos para encontrar mínimos de una función 1D**"
   ]
  },
  {
   "cell_type": "code",
   "execution_count": 21,
   "metadata": {},
   "outputs": [],
   "source": [
    "from matplotlib import pyplot as plt\n",
    "import numpy as np\n",
    "from time import time\n",
    "import math"
   ]
  },
  {
   "cell_type": "code",
   "execution_count": 32,
   "metadata": {},
   "outputs": [
    {
     "data": {
      "image/png": "[encoded data removed]",
      "text/plain": [
       "<Figure size 576x360 with 1 Axes>"
      ]
     },
     "metadata": {
      "needs_background": "light"
     },
     "output_type": "display_data"
    }
   ],
   "source": [
    "#Definición de la función:\n",
    "U = lambda t: ((204165.5)/(330-2*t)+(10400/(t-20)))\n",
    "t = np.linspace(40,90,10000)\n",
    "fu = U(t)\n",
    "fig1 = plt.figure(figsize=(8,5))\n",
    "plt.plot(t,fu)\n",
    "plt.xlabel('Temperature (t)')\n",
    "plt.ylabel('Cost U(t)')\n",
    "plt.grid(True)\n",
    "plt.show()"
   ]
  },
  {
   "cell_type": "markdown",
   "metadata": {},
   "source": [
    "**Newton Rapson**"
   ]
  },
  {
   "cell_type": "code",
   "execution_count": 66,
   "metadata": {},
   "outputs": [],
   "source": [
    "def NewtonRapson():\n",
    "    DerivadaAproximada = lambda x, dx: (U(x+dx)-U(x-dx))/(2*dx)\n",
    "    dx = 0.01\n",
    "    dan = DerivadaAproximada(t,dx)\n",
    "\n",
    "    #Metodo de Newton-Raphson\n",
    "    f = U #Funcion original\n",
    "    Derivada1Aproximada = lambda x, dx: (f(x+dx)-f(x-dx))/(2*dx) #Derivada aproximada\n",
    "    Derivada2Aproximada = lambda x, dx: (f(x+dx)-2*f(x)+f(x-dx))/(dx**2) #Derivada aproximada\n",
    "    dx = 0.01 #valor delta para aproximacion de la delta \n",
    "    x1 = 40 #Punto de partida\n",
    "    pasosMax = 100\n",
    "    epsilon = 0.000000001 #Definimos un epsilon, para checar el valor aumenta o no\n",
    "    #print(xi) #Imprimir el punto x1\n",
    "    i = 0\n",
    "\n",
    "    #fig1, ax = plt.subplots(2)\n",
    "    #print(\"xi\\t\\tf(xi)\\t\\tdx(xi)\\t\\td2x(xi)\")\n",
    "    \n",
    "    while(True):\n",
    "        tan = f(x1)+Derivada1Aproximada(x1,dx)*(t-x1)\n",
    "        # ax[0].cla() \n",
    "        # ax[1].cla()\n",
    "        # ax[0].plot(t,fu)\n",
    "        # ax[0].plot(t,tan)\n",
    "        # ax[0].plot(55.08352958,1225.16563688, marker=\"o\", color=\"blue\")\n",
    "        # #ax[0].xlabel('Temperature (t)')\n",
    "        # #ax[0].ylabel('Cost U(t)')\n",
    "        # ax[0].grid(True)\n",
    "        \n",
    "        # ax[0].plot(x1,f(x1), marker=\"o\", color=\"red\")\n",
    "        \n",
    "        # ax[1].grid(True)\n",
    "        # ax[1].plot(t,Derivada1Aproximada(t,dx),color=\"cyan\")\n",
    "        # ax[1].plot(x1,Derivada1Aproximada(x1,dx), marker=\"o\", color=\"red\")\n",
    "        \n",
    "        # plt.pause(2.8)\n",
    "        \n",
    "        # print(\"{:.8f}\\t{:.8f}\\t{:.8f}\\t{:.8f}\".format(x1, f(x1), Derivada1Aproximada(x1,dx), Derivada2Aproximada(x1,dx)))\n",
    "        #evaluamos si el denominador de la fraccion nos da 0\n",
    "        if(Derivada2Aproximada(x1,dx)==0):\n",
    "            print(\"Error Matematico hay division entre cero\")\n",
    "            break\n",
    "        \n",
    "        #Newton-Rapshon\n",
    "        xi = x1 - Derivada1Aproximada(x1,dx)/Derivada2Aproximada(x1,dx) #Formula de xn+1 = xn - f(xn)/f'(xn) si f'(xn) diferente de 0\n",
    "        \n",
    "        #No convergio el algoritmo\n",
    "        i = i + 1\n",
    "        if(i>pasosMax):\n",
    "            print('No covergio')\n",
    "            break\n",
    "        \n",
    "        #Error Tolerable\n",
    "        #Evaluamos si la diferencia entre el valor del punto actual X respecto a epsilon es menor que epsilon\n",
    "        if(abs(xi-x1)<epsilon): #Evaluamos si hay o no cambio significativo abs(xactual - xanterior)<=epsilon\n",
    "            #print(xi) #Imprimir el valor final de la raiz\n",
    "            break\n",
    "        x1 = xi #actualizamos el x1 ahora\n",
    "        \n",
    "    print(\"T=\",x1)\n",
    "    print(\"Iteraciones: %d\" % i)\n",
    "\n",
    "\n",
    "    plt.show()"
   ]
  },
  {
   "cell_type": "markdown",
   "metadata": {},
   "source": [
    "**Secante**"
   ]
  },
  {
   "cell_type": "code",
   "execution_count": 27,
   "metadata": {},
   "outputs": [],
   "source": [
    "def Secante():\n",
    "    f = U\n",
    "    dx = 0.01 #valor delta para aproximacion de la delta \n",
    "    x0 = 80  #Punto de partida\n",
    "    x1= 90\n",
    "    t = np.linspace(40,90,500)\n",
    "    ft = f(t)\n",
    "    # fig1 = plt.figure(figsize=(8,5))\n",
    "    # plt.plot(t,ft)\n",
    "    danalitica = lambda x: (91682.75*x*x - 651310*x - 242306900)/(((x-20)**2)*((x-165)**2))\n",
    "    daprox = lambda x, dx: (f(x+dx)-f(x-dx))/(2*dx) ###\n",
    "\n",
    "    fd1 = daprox(t,dx)\n",
    "\n",
    "    y_fd1 = danalitica(t) \n",
    "\n",
    "    # plt.plot(t,fd1)\n",
    "    # plt.plot(t,y_fd1)\n",
    "    pasosMax = 100\n",
    "    error = 0.0000001\n",
    "    #start_time = time()\n",
    "    i = 0\n",
    "\n",
    "    while(True):\n",
    "        \n",
    "        if(daprox(x1,dx)==0):\n",
    "            #print(\"Estas en el minimo\")\n",
    "            break\n",
    "        \n",
    "        #secante\n",
    "        xi = x1 - daprox(x1,dx)*(x0-x1)/(daprox(x0,dx)-daprox(x1,dx)) #Formula \n",
    "        \n",
    "\n",
    "        i = i + 1\n",
    "        if(i>pasosMax):\n",
    "            print('No covergio')\n",
    "            break\n",
    "    \n",
    "        if(abs(xi-x1)<error):\n",
    "        \n",
    "            break\n",
    "        x0 = x1\n",
    "        x1 = xi #actualizamos el x1 ahora\n",
    "        \n",
    "\n",
    "    #elapsed_time = (time() - start_time)*1000\n",
    "    # print(\"Tiempo transcurrido: %f ms\" % elapsed_time)\n",
    "    # print(\"Iteraciones: %f \" % i)\n",
    "    print(\"Valor x1: %f \" % x1)\n",
    "    print(\"Valor x0: %f \" % x0)\n",
    "    # plt.plot(t,ft)\n",
    "    # plt.plot(x1,f(x1), marker=\"o\", color=\"red\")\n"
   ]
  },
  {
   "cell_type": "markdown",
   "metadata": {},
   "source": [
    "**Fuerza Bruta**\n"
   ]
  },
  {
   "cell_type": "code",
   "execution_count": 30,
   "metadata": {},
   "outputs": [],
   "source": [
    "def FuerzaBruta():\n",
    "    #startTime = time()  #Para evaluar el tiempo de cómputo\n",
    "    min=np.Infinity     #Empezar por un valor grande\n",
    "    tiempo = 0\n",
    "\n",
    "    for i in t:\n",
    "        if U(i)<min:\n",
    "            min = U(i)\n",
    "            tiempo = i\n",
    "\n",
    "    #elapsedTime=(time()-startTime)*1000\n",
    "    #print(\"Tiempo transcurrido = \" + str(elapsedTime))\n",
    "    #print(\"x= = \",min)\n",
    "    print(\"T = \",tiempo)"
   ]
  },
  {
   "cell_type": "markdown",
   "metadata": {},
   "source": [
    "**Polinomial Cúbico**"
   ]
  },
  {
   "cell_type": "code",
   "execution_count": 78,
   "metadata": {},
   "outputs": [],
   "source": [
    "def PolynomialCub():\n",
    "    def d_C (x, deltax):\n",
    "        a_c = (U(x+deltax)-U(x-deltax))/(2*deltax)\n",
    "        return a_c\n",
    "    def alpha (x1,x2):\n",
    "        a = (x1 + x2)/2\n",
    "        return a\n",
    "    x1= 40\n",
    "    x2= 65\n",
    "    e = 0.0001\n",
    "    deltax= 0.01\n",
    "    al = alpha(x1,x2)\n",
    "    step = 0\n",
    "    #start_time = process_time_ns() \n",
    "    #definir los nuevos puntos con alpha\n",
    "    #while True:\n",
    "    #    step+=1\n",
    "    #    if d_C(x1,deltax) * d_C( al, deltax) < 0:\n",
    "    #        x2 = al\n",
    "    #        break\n",
    "    #    else:\n",
    "    #        x1 = al\n",
    "    #    al = alpha(x1,x2)\n",
    "\n",
    "    while True:\n",
    "        step+=1\n",
    "        #calcular las funciones y derivadas en los respectivos puntos\n",
    "        fa = U(x1)\n",
    "        fb = U(x2)\n",
    "        da = d_C(x1,deltax)\n",
    "        db = d_C(x2,deltax)\n",
    "\n",
    "        #Caclcular z y w para obtener u\n",
    "        z = (3 * (fa-fb) )/ (x2- x1)  +  (da + db)\n",
    "        w = (x2-x1)/ np.abs(x2-x1) + (np.sqrt(z**2 - (da * db)))\n",
    "        u = (db + w -z)/ (db - da + (2*w))\n",
    "\n",
    "        xm = 0\n",
    "        #evaluar u para obtener valor minimo\n",
    "        if u < 0:\n",
    "            xm = x2\n",
    "        else:\n",
    "            if 0 <= u and u <= 1:\n",
    "                xm = x2- u*(x2-x1)\n",
    "            else:\n",
    "                xm = x1\n",
    "\n",
    "        #calcular la derivada del valor minimo para saber si convergió\n",
    "        dxm = d_C(xm,deltax)\n",
    "        if np.abs(dxm) < e:\n",
    "            print('Convergió')\n",
    "            break\n",
    "        if da * dxm < 0:\n",
    "            x2 = xm\n",
    "        else:\n",
    "            x1 = xm\n",
    "        \n",
    "    #elapsed_time = (process_time_ns()   - start_time)\n",
    "    print('T: ',xm)\n",
    "    print('Pasos: ', step)\n",
    "    #print('f(x*): ', U(xm))\n",
    "    #print(\"Tiempo transcurrido: %f ns\" % elapsed_time)\n",
    "    # x = np.arange(40,90)\n",
    "    # fig1 = plt.figure(figsize=(8,5))\n",
    "    # plt.plot(x,U(x))\n",
    "    # plt.plot(xm,U(xm), marker=\"o\", color=\"green\")\n",
    "    # plt.grid(True)\n",
    "    # plt.title('Método Ajuste')\n",
    "    # plt.xlabel('Temperatura (t)')\n",
    "    # plt.ylabel('Costo U(t)')\n"
   ]
  },
  {
   "cell_type": "markdown",
   "metadata": {},
   "source": [
    "**Sección Dorada**"
   ]
  },
  {
   "cell_type": "code",
   "execution_count": 83,
   "metadata": {},
   "outputs": [],
   "source": [
    "def SecciónDorada():\n",
    "    f = U\n",
    "    dx = 0.01 #valor delta para aproximacion de la delta \n",
    "\n",
    "    t = np.linspace(40,90,500)\n",
    "    ft = f(t)\n",
    "    # fig1 = plt.figure(figsize=(8,5))\n",
    "    # plt.plot(t,ft)\n",
    "\n",
    "    pasosMax = 30\n",
    "    E = 0.00005\n",
    "    aurea = 0.6180339\n",
    "    xL = 40  #Punto de partida\n",
    "    xU = 90\n",
    "\n",
    "    for i in range(pasosMax):\n",
    "        d = aurea*(xU-xL)\n",
    "        x2 = xL+d\n",
    "        x1 = xU-d\n",
    "        if f(x1)<f(x2):\n",
    "            xL = xL\n",
    "            xU = x2\n",
    "        else:\n",
    "            xU=xU\n",
    "            xL=x1\n",
    "            \n",
    "        #print(\"d=\",d,\"\\nx1=\",x1,\"\\nx2=\",x2,\"\\nxU=\",xU,\"\\nxL\",xL)\n",
    "\n",
    "        #Si el delta es cercano a un valor de tolerancia detener el ciclo\n",
    "        if d<=E:\n",
    "            break\n",
    "\n",
    "    print(\"d=\",d,\"\\nx1=\",x1,\"\\nx2=\",x2,\"\\nxU=\",xU,\"\\nxL\",xL)"
   ]
  },
  {
   "cell_type": "code",
   "execution_count": 103,
   "metadata": {},
   "outputs": [],
   "source": [
    "def Test(Método):\n",
    "    start_time = time()\n",
    "    Método()\n",
    "    elapsed_time = (time() - start_time)\n",
    "    class bcolors:\n",
    "        HEADER = '\\033[95m'\n",
    "        OKBLUE = '\\033[94m'\n",
    "        OKCYAN = '\\033[96m'\n",
    "        OKGREEN = '\\033[92m'\n",
    "        WARNING = '\\033[93m'\n",
    "        FAIL = '\\033[91m'\n",
    "        ENDC = '\\033[0m'\n",
    "        BOLD = '\\033[1m'\n",
    "        UNDERLINE = '\\033[4m'\n",
    "\n",
    "    print(\"Tiempo transcurrido: \",bcolors.OKGREEN,elapsed_time,bcolors.ENDC)\n",
    "    #print(\"Tiempo transcurrido: \",elapsed_time)\n",
    "    return elapsed_time\n",
    "    "
   ]
  },
  {
   "cell_type": "code",
   "execution_count": 107,
   "metadata": {},
   "outputs": [
    {
     "name": "stdout",
     "output_type": "stream",
     "text": [
      "FuerzaBruta :\n",
      "T =  55.08150815081508\n",
      "Tiempo transcurrido:  \u001b[92m 0.01053476333618164 \u001b[0m\n",
      "\n",
      "NewtonRapson :\n",
      "T= 55.083529580523276\n",
      "Iteraciones: 7\n",
      "Tiempo transcurrido:  \u001b[92m 0.004345893859863281 \u001b[0m\n",
      "\n",
      "Secante :\n",
      "Valor x1: 55.083530 \n",
      "Valor x0: 55.083529 \n",
      "Tiempo transcurrido:  \u001b[92m 0.00035190582275390625 \u001b[0m\n",
      "\n",
      "PolynomialCub :\n",
      "Convergió\n",
      "T:  55.08343307245648\n",
      "Pasos:  11\n",
      "Tiempo transcurrido:  \u001b[92m 0.00040149688720703125 \u001b[0m\n",
      "\n",
      "SecciónDorada :\n",
      "d= 4.3483713786028774e-05 \n",
      "x1= 55.083532492686004 \n",
      "x2= 55.083549101976615 \n",
      "xU= 55.083549101976615 \n",
      "xL 55.083505618262826\n",
      "Tiempo transcurrido:  \u001b[92m 0.0030488967895507812 \u001b[0m\n",
      "\n"
     ]
    },
    {
     "data": {
      "image/png": "[encoded data removed]",
      "text/plain": [
       "<Figure size 720x720 with 1 Axes>"
      ]
     },
     "metadata": {
      "needs_background": "light"
     },
     "output_type": "display_data"
    }
   ],
   "source": [
    "Methods = [FuerzaBruta,NewtonRapson,Secante,PolynomialCub,SecciónDorada]\n",
    "Tiempos = {}\n",
    "for m in Methods:\n",
    "    print(m.__name__,\":\")\n",
    "    tiempo = Test(m)\n",
    "    Tiempos[m.__name__]=tiempo\n",
    "    print()\n",
    "\n",
    "fig1=plt.figure(figsize = (10,10))\n",
    "plt.bar(range(len(Tiempos)), list(Tiempos.values()), align='center');\n",
    "plt.xticks(range(len(Tiempos)), list(Tiempos.keys()));"
   ]
  }
 ],
 "metadata": {
  "interpreter": {
   "hash": "5f89ea19deeaaf1f176387edbb9b7cc72d721332c28040f46aae8421e811c1cf"
  },
  "kernelspec": {
   "display_name": "Python 3.9.7 ('base')",
   "language": "python",
   "name": "python3"
  },
  "language_info": {
   "codemirror_mode": {
    "name": "ipython",
    "version": 3
   },
   "file_extension": ".py",
   "mimetype": "text/x-python",
   "name": "python",
   "nbconvert_exporter": "python",
   "pygments_lexer": "ipython3",
   "version": "3.9.7"
  },
  "orig_nbformat": 4
 },
 "nbformat": 4,
 "nbformat_minor": 2
}
