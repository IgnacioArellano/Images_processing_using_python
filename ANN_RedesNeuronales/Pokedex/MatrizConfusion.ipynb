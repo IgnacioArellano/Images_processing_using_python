{
 "cells": [
  {
   "cell_type": "markdown",
   "metadata": {},
   "source": [
    "**Guardadito de la matriz de confusión**"
   ]
  },
  {
   "cell_type": "code",
   "execution_count": null,
   "metadata": {},
   "outputs": [],
   "source": [
    "from sklearn.metrics import confusion_matrix,classification_report, precision_recall_fscore_support,ConfusionMatrixDisplay\n",
    "model.load_weights('checkpoint3/')\n",
    "# model.load_weights('v1_weights_2.h5')\n",
    "\n",
    "y_tar=np.argmax(testY,1)\n",
    "pY_test=model.predict(testX)\n",
    "groundTruth=y_tar\n",
    "predections= pY_test.argmax(axis=1)\n",
    "cm=confusion_matrix(groundTruth,predections)"
   ]
  },
  {
   "cell_type": "code",
   "execution_count": null,
   "metadata": {},
   "outputs": [],
   "source": [
    "num_of_test_samples=2094\n",
    "#Confution Matrix and Classification Report\n",
    "Y_pred = model.predict(valid_generator, num_of_test_samples)\n",
    "y_pred = np.argmax(Y_pred, axis=1)\n",
    "print('Confusion Matrix')\n",
    "print(confusion_matrix(valid_generator.classes, y_pred))\n",
    "print('Classification Report')\n",
    "target_names = ['1', '2', '3','4','5']\n",
    "print(classification_report(valid_generator.classes, y_pred, target_names=target_names))"
   ]
  }
 ],
 "metadata": {
  "interpreter": {
   "hash": "5f89ea19deeaaf1f176387edbb9b7cc72d721332c28040f46aae8421e811c1cf"
  },
  "kernelspec": {
   "display_name": "Python 3.9.7 ('base')",
   "language": "python",
   "name": "python3"
  },
  "language_info": {
   "name": "python",
   "version": "3.9.7"
  },
  "orig_nbformat": 4
 },
 "nbformat": 4,
 "nbformat_minor": 2
}
