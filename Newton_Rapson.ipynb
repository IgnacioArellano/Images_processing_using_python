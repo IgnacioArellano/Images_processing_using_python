{
 "cells": [
  {
   "cell_type": "markdown",
   "metadata": {},
   "source": [
    "**Algoritmo Newton-Rapson para calcular máximos y mínimos**"
   ]
  },
  {
   "cell_type": "code",
   "execution_count": 5,
   "metadata": {},
   "outputs": [],
   "source": [
    "from math import sin\n",
    "from math import cos\n",
    "import numpy as np"
   ]
  },
  {
   "cell_type": "code",
   "execution_count": 6,
   "metadata": {},
   "outputs": [],
   "source": [
    "#Parámetros \n",
    "def F(x):\n",
    "    return sin(x)\n",
    "\n",
    "def dF(x):\n",
    "    return cos(x)\n",
    "    #TODO definir derivada aprox\n",
    "\n",
    "def ddF(x):\n",
    "    return -sin(x)\n",
    "    #TODO definir segunda derivada aprox\n",
    "xi = np.pi/4\n",
    "xi1 = 0\n",
    "e = 0.0000001     #Error tolerable\n",
    "N = 100    #Máximo de iteraciones\n",
    "counter = 0\n",
    "\n"
   ]
  },
  {
   "cell_type": "code",
   "execution_count": 7,
   "metadata": {},
   "outputs": [
    {
     "name": "stdout",
     "output_type": "stream",
     "text": [
      "EL mínimo es: xi = 1.5707963393971502\n",
      "Y es un punto de mínimo\n"
     ]
    }
   ],
   "source": [
    "#Proceso\n",
    "while True:\n",
    "    if dF(xi) == 0:\n",
    "        print(\"Error, derivada evaluada en el pnto es igual a 0\")\n",
    "        break\n",
    "\n",
    "    xi1 = xi - dF(xi)/ddF(xi)\n",
    "    \n",
    "    counter = counter+1\n",
    "\n",
    "    if(counter>=N):\n",
    "        print(\"ERROR: No convergencia\")\n",
    "        break\n",
    "\n",
    "    if(abs(xi1-xi)<=e):\n",
    "        break\n",
    "    \n",
    "    xi = xi1\n",
    "    \n",
    "print(\"EL mínimo es: xi =\",xi)\n",
    "\n",
    "if(F(xi)>0):\n",
    "    print(\"Y es un punto de mínimo\")\n",
    "else:\n",
    "    print(\"Y es un punto de máximo\")\n",
    "\n",
    "    "
   ]
  }
 ],
 "metadata": {
  "interpreter": {
   "hash": "5f89ea19deeaaf1f176387edbb9b7cc72d721332c28040f46aae8421e811c1cf"
  },
  "kernelspec": {
   "display_name": "Python 3.9.7 ('base')",
   "language": "python",
   "name": "python3"
  },
  "language_info": {
   "codemirror_mode": {
    "name": "ipython",
    "version": 3
   },
   "file_extension": ".py",
   "mimetype": "text/x-python",
   "name": "python",
   "nbconvert_exporter": "python",
   "pygments_lexer": "ipython3",
   "version": "3.9.7"
  },
  "orig_nbformat": 4
 },
 "nbformat": 4,
 "nbformat_minor": 2
}
