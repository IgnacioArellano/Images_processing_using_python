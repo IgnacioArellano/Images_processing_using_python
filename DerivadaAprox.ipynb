{
 "cells": [
  {
   "cell_type": "code",
   "execution_count": 29,
   "metadata": {},
   "outputs": [],
   "source": [
    "from matplotlib import pyplot as plt\n",
    "import numpy as np\n",
    "from time import time\n",
    "import numpy as np\n",
    "import matplotlib.pyplot as plt\n",
    "from mpl_toolkits.mplot3d import Axes3D\n",
    "from matplotlib import cm"
   ]
  },
  {
   "cell_type": "code",
   "execution_count": 30,
   "metadata": {},
   "outputs": [],
   "source": [
    "def F(x1,x2):\n",
    "    return 2*np.pi*x1*x2 + 2*np.pi*x1**2\n"
   ]
  },
  {
   "cell_type": "code",
   "execution_count": 31,
   "metadata": {},
   "outputs": [],
   "source": [
    "def dx(f,xt,yt):\n",
    "    delta = 0.01\n",
    "    fxPlusDelta = f(xt+delta,yt)\n",
    "    fxMinusDelta = f(xt-delta,yt)\n",
    "\n",
    "    derivada = (fxPlusDelta-fxMinusDelta)/2*delta\n",
    "    \n",
    "    return derivada\n",
    "    "
   ]
  },
  {
   "cell_type": "markdown",
   "metadata": {},
   "source": [
    "**Aprox a la segunda derivada parcial**\n"
   ]
  },
  {
   "cell_type": "code",
   "execution_count": 32,
   "metadata": {},
   "outputs": [],
   "source": [
    "def dxx(f,xt,yt):\n",
    "    fx = f(xt,yt)\n",
    "    delta = 0.01\n",
    "    fxPlusDelta = f(xt+delta,yt)\n",
    "    fxminusDelta = f(xt-delta,yt)\n",
    "\n",
    "    derivada = (fxPlusDelta-2*fx+fxminusDelta)/delta**2\n",
    "\n",
    "    return derivada"
   ]
  },
  {
   "cell_type": "markdown",
   "metadata": {},
   "source": [
    "**Aproximación de la segunda derivada parcial de dos variables**"
   ]
  },
  {
   "cell_type": "code",
   "execution_count": 33,
   "metadata": {},
   "outputs": [],
   "source": [
    "def dxy(f,xt,yt):\n",
    "    delta = 0.01\n",
    "    plusPlus = f(xt+delta,yt+delta)\n",
    "    plusMinus = f(xt+delta,yt-delta)\n",
    "    minusPlus = f(xt-delta,yt+delta)\n",
    "    minusMinus = f(xt-delta,yt-delta)\n",
    "\n",
    "    return (plusPlus-plusMinus-minusPlus+minusMinus)/4*delta*delta\n",
    "\n"
   ]
  },
  {
   "cell_type": "code",
   "execution_count": 35,
   "metadata": {},
   "outputs": [],
   "source": [
    "xt = 80\n",
    "yt = 100\n",
    "\n",
    "derivada = dx(F,xt,xx2)\n",
    "\n",
    "derivada_2 = dxx(F,xx1,xx2)\n",
    "\n",
    "derivada_xy = dxy(F,xx1,xx2)\n"
   ]
  },
  {
   "cell_type": "code",
   "execution_count": 44,
   "metadata": {},
   "outputs": [
    {
     "name": "stdout",
     "output_type": "stream",
     "text": [
      "[[12.566370714921504, 6.283185284701177e-08], [6.283185284701177e-08, 12.566370569402352]]\n",
      "[[0.163362817986781], [0.17592918860107604]]\n"
     ]
    }
   ],
   "source": [
    "x1,x2 = 80,100\n",
    "a = np.array([x1,x2])   #El punto a evaluar\n",
    "\n",
    "Hez = [\n",
    "    [dxx(F,x1,x2),dxy(F,x2,x1)],\n",
    "    [dxy(F,x1,x2),dxx(F,x2,x1)],\n",
    "]\n",
    "\n",
    "Grad = [\n",
    "    [dx(F,x1,x2)],\n",
    "    [dx(F,x2,x1)],\n",
    "]\n",
    "\n",
    "print(Hez)\n",
    "print(Grad)"
   ]
  },
  {
   "cell_type": "code",
   "execution_count": 49,
   "metadata": {},
   "outputs": [],
   "source": [
    "#TODO Definir la función aproximada"
   ]
  }
 ],
 "metadata": {
  "interpreter": {
   "hash": "5f89ea19deeaaf1f176387edbb9b7cc72d721332c28040f46aae8421e811c1cf"
  },
  "kernelspec": {
   "display_name": "Python 3.9.7 ('base')",
   "language": "python",
   "name": "python3"
  },
  "language_info": {
   "codemirror_mode": {
    "name": "ipython",
    "version": 3
   },
   "file_extension": ".py",
   "mimetype": "text/x-python",
   "name": "python",
   "nbconvert_exporter": "python",
   "pygments_lexer": "ipython3",
   "version": "3.9.7"
  },
  "orig_nbformat": 4
 },
 "nbformat": 4,
 "nbformat_minor": 2
}
