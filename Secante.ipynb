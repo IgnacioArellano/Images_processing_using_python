{
 "cells": [
  {
   "cell_type": "markdown",
   "metadata": {},
   "source": [
    "**Método de la secante**"
   ]
  },
  {
   "cell_type": "code",
   "execution_count": 1,
   "metadata": {},
   "outputs": [],
   "source": [
    "from math import sin\n",
    "from math import cos\n",
    "import numpy as np"
   ]
  },
  {
   "cell_type": "code",
   "execution_count": 2,
   "metadata": {},
   "outputs": [],
   "source": [
    "#definir la función a para obtener sus raíces \n",
    "def f(x):\n",
    "    return sin(x)\n",
    "\n",
    "def f(T):\n",
    "    ans = (204165.5)/(330-2*T)+(10400)/(T-20)\n",
    "    return ans\n"
   ]
  },
  {
   "cell_type": "code",
   "execution_count": 3,
   "metadata": {},
   "outputs": [],
   "source": [
    "def dx(f,xt):\n",
    "    delta = 0.01\n",
    "    fxPlusDelta = f(xt+delta)\n",
    "    fxMinusDelta = f(xt-delta)\n",
    "\n",
    "    derivada = (fxPlusDelta-fxMinusDelta)/2*delta\n",
    "    \n",
    "    return derivada"
   ]
  },
  {
   "cell_type": "code",
   "execution_count": 6,
   "metadata": {},
   "outputs": [],
   "source": [
    "#Parametros \n",
    "x1 = 80\n",
    "x2 = 90\n",
    "errorPermitido = 0.00001     #Error tolerable\n",
    "#Para el problema de tarea x1 = 90 x2=80\n"
   ]
  },
  {
   "cell_type": "code",
   "execution_count": 7,
   "metadata": {},
   "outputs": [
    {
     "name": "stdout",
     "output_type": "stream",
     "text": [
      "Error = 0.7200095181876498\n",
      "x2 = 46.51137052095787\n",
      "Error = 0.13375457495165063\n",
      "x2 = 103.89665260855682\n",
      "Error = 21.57558005726604\n",
      "x2 = 2.0602514045253955\n",
      "Error = 0.33931868759655476\n",
      "x2 = 157.25683572099024\n",
      "Error = 1.0136818211956016\n",
      "x2 = -150.58312596481866\n",
      "Error = 0.0007687028133629798\n",
      "x2 = 157.13604480127077\n",
      "Error = 0.6715220119286942\n",
      "x2 = -458.426839646041\n",
      "Error = 0.000515993800011559\n",
      "x2 = 157.0550053922276\n",
      "Error = 0.5731559464270398\n",
      "x2 = -1073.9913928956314\n",
      "Error = 0.000280376208488469\n",
      "x2 = 157.01098324805346\n",
      "Error = 0.5340678709380607\n",
      "x2 = -2305.038278982601\n",
      "Error = 0.00014524968724921573\n",
      "x2 = 156.98818076389568\n",
      "Error = 0.5164682426945737\n",
      "x2 = -4767.0876714031565\n",
      "Error = 7.384776049168837e-05\n",
      "x2 = 156.97658839439313\n",
      "Error = 0.5080995544752783\n",
      "x2 = -9691.16355712586\n",
      "Error = 3.7225441817935444e-05\n",
      "x2 = 156.9707450890547\n",
      "Error = 0.5040169444937458\n",
      "x2 = -19539.30371116006\n",
      "Error = 1.868765328649849e-05\n",
      "x2 = 156.96781172901197\n",
      "Error = 0.5020003623567719\n",
      "x2 = -39235.578169553235\n",
      "Error = 9.362506199017357e-06\n",
      "x2 = 156.96634213066073\n"
     ]
    }
   ],
   "source": [
    "eCal = abs((np.sqrt(x2)-np.sqrt(x1))/np.sqrt(x2))\n",
    "\n",
    "while(eCal>=errorPermitido):\n",
    "    x0 = x2\n",
    "\n",
    "    x2 = x1 - (dx(f,x2)*(x1-x2))/(dx(f,x1)-dx(f,x2))\n",
    "    eCal = abs((x2-x1)/x2)\n",
    "    print(\"Error =\",eCal)\n",
    "    print(\"x2 =\",x2)\n",
    "\n",
    "    x1 = x0\n",
    "    \n"
   ]
  }
 ],
 "metadata": {
  "interpreter": {
   "hash": "5f89ea19deeaaf1f176387edbb9b7cc72d721332c28040f46aae8421e811c1cf"
  },
  "kernelspec": {
   "display_name": "Python 3.9.7 ('base')",
   "language": "python",
   "name": "python3"
  },
  "language_info": {
   "codemirror_mode": {
    "name": "ipython",
    "version": 3
   },
   "file_extension": ".py",
   "mimetype": "text/x-python",
   "name": "python",
   "nbconvert_exporter": "python",
   "pygments_lexer": "ipython3",
   "version": "3.9.7"
  },
  "orig_nbformat": 4
 },
 "nbformat": 4,
 "nbformat_minor": 2
}
