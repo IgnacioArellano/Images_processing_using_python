{
 "cells": [
  {
   "cell_type": "markdown",
   "metadata": {},
   "source": [
    "**Método de la secante**"
   ]
  },
  {
   "cell_type": "code",
   "execution_count": 1,
   "metadata": {},
   "outputs": [],
   "source": [
    "from math import sin\n",
    "from math import cos\n",
    "import numpy as np"
   ]
  },
  {
   "cell_type": "code",
   "execution_count": 12,
   "metadata": {},
   "outputs": [],
   "source": [
    "#definir la función a para obtener sus raíces \n",
    "def f(x):\n",
    "    return sin(x)\n"
   ]
  },
  {
   "cell_type": "code",
   "execution_count": 13,
   "metadata": {},
   "outputs": [],
   "source": [
    "def dx(f,xt):\n",
    "    delta = 0.01\n",
    "    fxPlusDelta = f(xt+delta)\n",
    "    fxMinusDelta = f(xt-delta)\n",
    "\n",
    "    derivada = (fxPlusDelta-fxMinusDelta)/2*delta\n",
    "    \n",
    "    return derivada"
   ]
  },
  {
   "cell_type": "code",
   "execution_count": 14,
   "metadata": {},
   "outputs": [],
   "source": [
    "#Parametros \n",
    "x1 = np.pi/4\n",
    "x2 = np.pi/8\n",
    "errorPermitido = 0.00001     #Error tolerable\n"
   ]
  },
  {
   "cell_type": "code",
   "execution_count": 15,
   "metadata": {},
   "outputs": [
    {
     "name": "stdout",
     "output_type": "stream",
     "text": [
      "Error = 0.6806118264953517\n",
      "x2 = 2.4590709004008184\n",
      "Error = 1.7132260484080586\n",
      "x2 = -0.5505955406076937\n",
      "Error = 0.39046769727278446\n",
      "x2 = 4.034356980587013\n",
      "Error = 0.7792766136402719\n",
      "x2 = -2.494504772187349\n",
      "Error = 0.8833028022626102\n",
      "x2 = 34.57115559591884\n",
      "Error = 0.9865823712977573\n",
      "x2 = -185.91249076451155\n",
      "Error = 1.0288908512444057\n",
      "x2 = -1196.612564422554\n",
      "Error = 1.019175169520954\n",
      "x2 = 9695.480947970225\n",
      "Error = 0.8130975288145187\n",
      "x2 = -6402.336774001453\n",
      "Error = 0.9368099826873906\n",
      "x2 = 153433.74413090292\n",
      "Error = 0.6267167714934444\n",
      "x2 = -17151.418239753613\n",
      "Error = 0.7649542418671718\n",
      "x2 = 652782.4426603564\n",
      "Error = 0.9777889551463396\n",
      "x2 = -772202.2242878391\n",
      "Error = 0.3530601976128429\n",
      "x2 = 1009031.1961818401\n",
      "Error = 0.5391526077693334\n",
      "x2 = -1675613.7439556802\n",
      "Error = 0.535585820164678\n",
      "x2 = 2172696.7866046545\n",
      "Error = 0.6436118283834974\n",
      "x2 = -4701653.638939376\n",
      "Error = 1.016898185511986\n",
      "x2 = -128575744.71907373\n",
      "Error = 0.9731035827146268\n",
      "x2 = -174805944.93513557\n",
      "Error = 0.11316110042473919\n",
      "x2 = -115505064.51403503\n",
      "Error = 0.298217663827775\n",
      "x2 = -249088550.57337365\n",
      "Error = 0.8724363105636862\n",
      "x2 = -905469769.8415262\n",
      "Error = 3.9536431568251125\n",
      "x2 = -50283910.78799859\n",
      "Error = 0.4068848867856266\n",
      "x2 = -1526634121.5524826\n",
      "Error = 1.872214842906132\n",
      "x2 = 57650831.32552257\n",
      "Error = 0.4215132025259898\n",
      "x2 = -2639012900.9315376\n",
      "Error = 0.9831231475425217\n",
      "x2 = 3415970570.980296\n",
      "Error = 1.6971207959631232\n",
      "x2 = 3785589120.5849752\n",
      "Error = 0.277003856535748\n",
      "x2 = 2674988453.243305\n",
      "Error = 0.9421668678380558\n",
      "x2 = 65457100092.46222\n",
      "Error = 0.9536694864692129\n",
      "x2 = 57737077562.625015\n",
      "Error = 0.055289741237142524\n",
      "x2 = 62027609607.694305\n",
      "Error = 0.07123039729754427\n",
      "x2 = 62165124046.50897\n",
      "Error = 0.0024126327523322612\n",
      "x2 = 61878319946.33249\n",
      "Error = 0.0014883100519901653\n",
      "x2 = 62257782930.659294\n",
      "Error = 0.01951888302152236\n",
      "x2 = 60693647736.02356\n",
      "Error = 0.06443291176150526\n",
      "x2 = 66545503484.821754\n",
      "Error = 0.03790776412530403\n",
      "x2 = 58476918502.65046\n",
      "Error = 0.07037677215708418\n",
      "x2 = 71583305463.69089\n",
      "Error = 0.5197677124892497\n",
      "x2 = 121767986083.90405\n",
      "Error = 0.9879014583642549\n",
      "x2 = 5916688772818.504\n",
      "Error = 0.9976666139651884\n",
      "x2 = 52185101079401.13\n",
      "Error = 1.3909086919635425\n",
      "x2 = -15135730912246.672\n",
      "Error = 0.985985594450135\n",
      "x2 = 3723675677410651.5\n",
      "Error = 0.0\n",
      "x2 = -15135730912246.672\n"
     ]
    }
   ],
   "source": [
    "eCal = abs((np.sqrt(x2)-np.sqrt(x1))/np.sqrt(x2))\n",
    "\n",
    "while(eCal>=errorPermitido):\n",
    "    x0 = x2\n",
    "\n",
    "    x2 = x1 - (dx(f,x2)*(x1-x2))/(dx(f,x1)-dx(f,x2))\n",
    "    eCal = abs((x2-x1)/x2)\n",
    "    print(\"Error =\",eCal)\n",
    "    print(\"x2 =\",x2)\n",
    "\n",
    "    x1 = x0\n",
    "    \n"
   ]
  }
 ],
 "metadata": {
  "interpreter": {
   "hash": "5f89ea19deeaaf1f176387edbb9b7cc72d721332c28040f46aae8421e811c1cf"
  },
  "kernelspec": {
   "display_name": "Python 3.9.7 ('base')",
   "language": "python",
   "name": "python3"
  },
  "language_info": {
   "codemirror_mode": {
    "name": "ipython",
    "version": 3
   },
   "file_extension": ".py",
   "mimetype": "text/x-python",
   "name": "python",
   "nbconvert_exporter": "python",
   "pygments_lexer": "ipython3",
   "version": "3.9.7"
  },
  "orig_nbformat": 4
 },
 "nbformat": 4,
 "nbformat_minor": 2
}
